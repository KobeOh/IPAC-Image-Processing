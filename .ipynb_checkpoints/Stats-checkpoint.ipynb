{
 "cells": [
  {
   "cell_type": "code",
   "execution_count": 290,
   "metadata": {},
   "outputs": [],
   "source": [
    "import numpy as np\n",
    "import matplotlib.pyplot as plt\n",
    "import scipy.ndimage as ndi\n",
    "from astropy.io import fits, ascii\n",
    "from astropy.visualization import LogStretch\n",
    "from astropy.modeling import models\n",
    "from astropy.utils.data import get_pkg_data_filename\n",
    "from astropy.table import Table\n",
    "\n",
    "import os\n",
    "import photutils\n",
    "import time\n",
    "import statmorph\n",
    "%matplotlib inline"
   ]
  },
  {
   "cell_type": "code",
   "execution_count": 291,
   "metadata": {},
   "outputs": [],
   "source": [
    "#This should be the path to the super-directory that contains all the subdirectories\n",
    "fitsDirPath = 'C:\\\\Users\\\\Kobe\\\\OneDrive\\\\Documents\\\\Personal CS Projects\\\\Summer Astro Project\\\\MEF ngc4449 Class 1 Quality 1'\n",
    "\n",
    "tableDir = 'C:\\\\Users\\\\Kobe\\\\OneDrive\\\\Documents\\\\Personal CS Projects\\\\Summer Astro Project'\n",
    "\n",
    "tableName = 'Stats Table'\n",
    "\n",
    "headerAttrNames = ['OBJECTID', 'X_COORD', 'Y_COORD', 'RA', 'DEC']\n",
    "\n",
    "#These names should EXACTLY match the names of the desired statmorph morph attributes\n",
    "morphAttributeNames = ['xc_centroid', 'yc_centroid', 'ellipticity_centroid']\n",
    "\n",
    "gain = 4920.0\n",
    "logStretchFactor = 10000.0\n",
    "npixels = 5  # minimum number of connected pixels\n",
    "\n",
    "headerCols = []\n",
    "attrCols = []\n",
    "objProcessed = 0\n",
    "\n",
    "for colName in headerAttrNames:\n",
    "    headerCols.append([])\n",
    "    \n",
    "for colName in morphAttributeNames:\n",
    "    attrCols.append([])"
   ]
  },
  {
   "cell_type": "code",
   "execution_count": 292,
   "metadata": {},
   "outputs": [],
   "source": [
    "def normalize(image):\n",
    "    m, M = np.min(image), np.max(image)\n",
    "    return (image-m) / (M-m)\n",
    "                        \n",
    "log_stretch = LogStretch(logStretchFactor)"
   ]
  },
  {
   "cell_type": "code",
   "execution_count": 293,
   "metadata": {},
   "outputs": [],
   "source": [
    "def processFits(filePath):\n",
    "    hdul = fits.open(filePath)\n",
    "    hdul.info()\n",
    "    \n",
    "    image_data=hdul[4].data\n",
    "    hdr = hdul[0].header\n",
    "    #print(repr(hdr))\n",
    "    '''\n",
    "    print(type(image_data))\n",
    "    print(image_data.shape)\n",
    "    header = Table.read(hdul, hdu=0)\n",
    "    hdr = hdul[0].header\n",
    "    print(repr(hdr))\n",
    "    '''\n",
    "    \n",
    "    #plt.imshow(log_stretch(normalize(image_data)), origin='lower', cmap='gray')\n",
    "    sub = image_data[135:165,135:165]\n",
    "    #plt.imshow(log_stretch(normalize(sub)),origin='lower', cmap='gray')\n",
    "    \n",
    "    threshold = photutils.detect_threshold(sub, snr=5)\n",
    "    segm = photutils.detect_sources(sub, threshold, npixels)\n",
    "    # Keep only the largest segment\n",
    "    print(len(segm.areas))\n",
    "    if(len(segm.areas) == 0):\n",
    "        return\n",
    "    else:\n",
    "        label = np.argmax(segm.areas) + 1\n",
    "        segmap = segm.data == label\n",
    "        #plt.imshow(segmap, origin='lower', cmap='gray')\n",
    "\n",
    "        #segmap_float = ndi.uniform_filter(np.float64(segmap), size=10)\n",
    "        #segmap = segmap_float > 0.5\n",
    "        #plt.imshow(segmap, origin='lower', cmap='gray')\n",
    "\n",
    "        #start = time.time()\n",
    "        source_morphs = statmorph.source_morphology(sub, segmap, gain=gain)\n",
    "        #print(len(source_morphs))\n",
    "        #print('Time: %g s.' % (time.time() - start))\n",
    "\n",
    "        if(len(source_morphs) > 0):\n",
    "\n",
    "            #objProcessed += 1\n",
    "\n",
    "            morph = source_morphs[0]\n",
    "\n",
    "            for i in range(len(headerAttrNames)):\n",
    "                headerCols[i].append(hdr[headerAttrNames[i]])\n",
    "\n",
    "            for i in range(len(morphAttributeNames)):\n",
    "                att = getattr(morph, morphAttributeNames[i])\n",
    "                attrCols[i].append(att)\n",
    "        \n",
    "    \n",
    "    "
   ]
  },
  {
   "cell_type": "code",
   "execution_count": 294,
   "metadata": {},
   "outputs": [],
   "source": [
    "def processDir(dirPath):\n",
    "    for root, dirs, files in os.walk(dirPath):\n",
    "        for name in files:\n",
    "            if name.endswith('.fits'):\n",
    "                print(name)\n",
    "                print(os.path.join(root, name))\n",
    "                processFits(os.path.join(root, name))\n",
    "            else:\n",
    "                continue        \n",
    "        for name in dirs:\n",
    "            processDir(os.path.join(root, name))"
   ]
  },
  {
   "cell_type": "code",
   "execution_count": 295,
   "metadata": {},
   "outputs": [],
   "source": [
    "def makeTable():\n",
    "    t = Table()\n",
    "    \n",
    "    for i in range(len(headerAttrNames)):\n",
    "        t[headerAttrNames[i]] = headerCols[i]\n",
    "        \n",
    "    for i in range(len(morphAttributeNames)):\n",
    "        t[morphAttributeNames[i]] = attrCols[i]\n",
    "    \n",
    "    ascii.write(t, tableDir + '\\\\' + tableName, format = 'fixed_width', overwrite = True)\n",
    "    #print(objProcessed + ' objects processed.')"
   ]
  },
  {
   "cell_type": "code",
   "execution_count": 296,
   "metadata": {},
   "outputs": [
    {
     "name": "stdout",
     "output_type": "stream",
     "text": [
      "MEF_ngc4449_obj_1008_class1_quality1.fits\n",
      "C:\\Users\\Kobe\\OneDrive\\Documents\\Personal CS Projects\\Summer Astro Project\\MEF ngc4449 Class 1 Quality 1\\MEF_ngc4449_obj_1008_class1_quality1.fits\n",
      "Filename: C:\\Users\\Kobe\\OneDrive\\Documents\\Personal CS Projects\\Summer Astro Project\\MEF ngc4449 Class 1 Quality 1\\MEF_ngc4449_obj_1008_class1_quality1.fits\n",
      "No.    Name      Ver    Type      Cards   Dimensions   Format\n",
      "  0  NGC4449       1 PrimaryHDU      25   ()      \n",
      "  1  F275W         1 ImageHDU         8   (299, 299)   float32   \n",
      "  2  F336W         1 ImageHDU         8   (299, 299)   float32   \n",
      "  3  F435W         1 ImageHDU         8   (299, 299)   float32   \n",
      "  4  F555W         1 ImageHDU         8   (299, 299)   float32   \n",
      "  5  F814W         1 ImageHDU         8   (299, 299)   float32   \n",
      "SIMPLE  =                    T / conforms to FITS standard                      \n",
      "BITPIX  =                    8 / array data type                                \n",
      "NAXIS   =                    0 / number of array dimensions                     \n",
      "EXTEND  =                    T                                                  \n",
      "EXTNAME = 'NGC4449 '           / extension name                                 \n",
      "GALAXY  = 'ngc4449 '                                                            \n",
      "OBJECTID= '1008    '                                                            \n",
      "CLASS   = '1       '                                                            \n",
      "QUALITY = '1       '                                                            \n",
      "X_COORD =             6235.552                                                  \n",
      "Y_COORD =               4675.0                                                  \n",
      "RA      =                 1008                                                  \n",
      "DEC     =                 1008                                                  \n",
      "M_F275W =                 1008                                                  \n",
      "E_F275W =                 1008                                                  \n",
      "M_F336W =                 1008                                                  \n",
      "E_F336W =                 1008                                                  \n",
      "M_F435W =                 1008                                                  \n",
      "E_F435W =                 1008                                                  \n",
      "M_F555W =                 1008                                                  \n",
      "E_F555W =                 1008                                                  \n",
      "M_F814W =                 1008                                                  \n",
      "E_F814W =                 1008                                                  \n",
      "CI_555  =                 1008                                                  \n",
      "N_FILT  =                 1008                                                  \n",
      "1\n"
     ]
    },
    {
     "name": "stderr",
     "output_type": "stream",
     "text": [
      "WARNING: [skybox] Reducing skybox size to 16. [statmorph.statmorph]\n",
      "WARNING: [skybox] Reducing skybox size to 8. [statmorph.statmorph]\n",
      "WARNING: [shape_asym] Using skybox for background. [statmorph.statmorph]\n",
      "WARNING: [segmap_gini] Full Gini segmap! [statmorph.statmorph]\n",
      "WARNING: segmap_mid is undefined; using segmap_gini instead. [statmorph.statmorph]\n",
      "WARNING: [M statistic] Reduced stepsize to 0.01. [statmorph.statmorph]\n",
      "WARNING: [M statistic] Reduced stepsize to 0.005. [statmorph.statmorph]\n",
      "WARNING: [M statistic] Reduced stepsize to 0.0025. [statmorph.statmorph]\n",
      "WARNING: [M statistic] Reduced stepsize to 0.00125. [statmorph.statmorph]\n",
      "WARNING: [M statistic] Reduced stepsize to 0.000625. [statmorph.statmorph]\n"
     ]
    },
    {
     "name": "stdout",
     "output_type": "stream",
     "text": [
      "Finished processing source 1.\n",
      "\n",
      "MEF_ngc4449_obj_1016_class1_quality1.fits\n",
      "C:\\Users\\Kobe\\OneDrive\\Documents\\Personal CS Projects\\Summer Astro Project\\MEF ngc4449 Class 1 Quality 1\\MEF_ngc4449_obj_1016_class1_quality1.fits\n",
      "Filename: C:\\Users\\Kobe\\OneDrive\\Documents\\Personal CS Projects\\Summer Astro Project\\MEF ngc4449 Class 1 Quality 1\\MEF_ngc4449_obj_1016_class1_quality1.fits\n",
      "No.    Name      Ver    Type      Cards   Dimensions   Format\n",
      "  0  NGC4449       1 PrimaryHDU      25   ()      \n",
      "  1  F275W         1 ImageHDU         8   (299, 299)   float32   \n",
      "  2  F336W         1 ImageHDU         8   (299, 299)   float32   \n",
      "  3  F435W         1 ImageHDU         8   (299, 299)   float32   \n",
      "  4  F555W         1 ImageHDU         8   (299, 299)   float32   \n",
      "  5  F814W         1 ImageHDU         8   (299, 299)   float32   \n"
     ]
    },
    {
     "name": "stderr",
     "output_type": "stream",
     "text": [
      "WARNING: [M statistic] Single clump! [statmorph.statmorph]\n",
      "WARNING: [sersic] Skipping Sersic fit... [statmorph.statmorph]\n",
      "WARNING: Image is not background-subtracted. [statmorph.statmorph]\n",
      "WARNING: [skybox] Reducing skybox size to 16. [statmorph.statmorph]\n",
      "WARNING: [skybox] Reducing skybox size to 8. [statmorph.statmorph]\n"
     ]
    },
    {
     "name": "stdout",
     "output_type": "stream",
     "text": [
      "SIMPLE  =                    T / conforms to FITS standard                      \n",
      "BITPIX  =                    8 / array data type                                \n",
      "NAXIS   =                    0 / number of array dimensions                     \n",
      "EXTEND  =                    T                                                  \n",
      "EXTNAME = 'NGC4449 '           / extension name                                 \n",
      "GALAXY  = 'ngc4449 '                                                            \n",
      "OBJECTID= '1016    '                                                            \n",
      "CLASS   = '1       '                                                            \n",
      "QUALITY = '1       '                                                            \n",
      "X_COORD =               7059.0                                                  \n",
      "Y_COORD =              4625.87                                                  \n",
      "RA      =                 1016                                                  \n",
      "DEC     =                 1016                                                  \n",
      "M_F275W =                 1016                                                  \n",
      "E_F275W =                 1016                                                  \n",
      "M_F336W =                 1016                                                  \n",
      "E_F336W =                 1016                                                  \n",
      "M_F435W =                 1016                                                  \n",
      "E_F435W =                 1016                                                  \n",
      "M_F555W =                 1016                                                  \n",
      "E_F555W =                 1016                                                  \n",
      "M_F814W =                 1016                                                  \n",
      "E_F814W =                 1016                                                  \n",
      "CI_555  =                 1016                                                  \n",
      "N_FILT  =                 1016                                                  \n",
      "1\n"
     ]
    },
    {
     "name": "stderr",
     "output_type": "stream",
     "text": [
      "WARNING: [shape_asym] Using skybox for background. [statmorph.statmorph]\n",
      "WARNING: [segmap_gini] Full Gini segmap! [statmorph.statmorph]\n",
      "WARNING: segmap_mid is undefined; using segmap_gini instead. [statmorph.statmorph]\n",
      "WARNING: [M statistic] Reduced stepsize to 0.01. [statmorph.statmorph]\n",
      "WARNING: [M statistic] Reduced stepsize to 0.005. [statmorph.statmorph]\n",
      "WARNING: [M statistic] Reduced stepsize to 0.0025. [statmorph.statmorph]\n",
      "WARNING: [M statistic] Reduced stepsize to 0.00125. [statmorph.statmorph]\n",
      "WARNING: [M statistic] Reduced stepsize to 0.000625. [statmorph.statmorph]\n"
     ]
    },
    {
     "name": "stdout",
     "output_type": "stream",
     "text": [
      "Finished processing source 1.\n",
      "\n",
      "MEF_ngc4449_obj_1022_class1_quality1.fits\n",
      "C:\\Users\\Kobe\\OneDrive\\Documents\\Personal CS Projects\\Summer Astro Project\\MEF ngc4449 Class 1 Quality 1\\MEF_ngc4449_obj_1022_class1_quality1.fits\n",
      "Filename: C:\\Users\\Kobe\\OneDrive\\Documents\\Personal CS Projects\\Summer Astro Project\\MEF ngc4449 Class 1 Quality 1\\MEF_ngc4449_obj_1022_class1_quality1.fits\n",
      "No.    Name      Ver    Type      Cards   Dimensions   Format\n",
      "  0  NGC4449       1 PrimaryHDU      25   ()      \n",
      "  1  F275W         1 ImageHDU         8   (299, 299)   float32   \n",
      "  2  F336W         1 ImageHDU         8   (299, 299)   float32   \n",
      "  3  F435W         1 ImageHDU         8   (299, 299)   float32   \n",
      "  4  F555W         1 ImageHDU         8   (299, 299)   float32   \n",
      "  5  F814W         1 ImageHDU         8   (299, 299)   float32   \n"
     ]
    },
    {
     "name": "stderr",
     "output_type": "stream",
     "text": [
      "WARNING: [M statistic] Single clump! [statmorph.statmorph]\n",
      "WARNING: [sersic] Skipping Sersic fit... [statmorph.statmorph]\n",
      "WARNING: Image is not background-subtracted. [statmorph.statmorph]\n",
      "WARNING: [skybox] Reducing skybox size to 16. [statmorph.statmorph]\n",
      "WARNING: [skybox] Reducing skybox size to 8. [statmorph.statmorph]\n"
     ]
    },
    {
     "name": "stdout",
     "output_type": "stream",
     "text": [
      "SIMPLE  =                    T / conforms to FITS standard                      \n",
      "BITPIX  =                    8 / array data type                                \n",
      "NAXIS   =                    0 / number of array dimensions                     \n",
      "EXTEND  =                    T                                                  \n",
      "EXTNAME = 'NGC4449 '           / extension name                                 \n",
      "GALAXY  = 'ngc4449 '                                                            \n",
      "OBJECTID= '1022    '                                                            \n",
      "CLASS   = '1       '                                                            \n",
      "QUALITY = '1       '                                                            \n",
      "X_COORD =             6267.753                                                  \n",
      "Y_COORD =             4562.959                                                  \n",
      "RA      =                 1022                                                  \n",
      "DEC     =                 1022                                                  \n",
      "M_F275W =                 1022                                                  \n",
      "E_F275W =                 1022                                                  \n",
      "M_F336W =                 1022                                                  \n",
      "E_F336W =                 1022                                                  \n",
      "M_F435W =                 1022                                                  \n",
      "E_F435W =                 1022                                                  \n",
      "M_F555W =                 1022                                                  \n",
      "E_F555W =                 1022                                                  \n",
      "M_F814W =                 1022                                                  \n",
      "E_F814W =                 1022                                                  \n",
      "CI_555  =                 1022                                                  \n",
      "N_FILT  =                 1022                                                  \n",
      "1\n"
     ]
    },
    {
     "name": "stderr",
     "output_type": "stream",
     "text": [
      "WARNING: [shape_asym] Using skybox for background. [statmorph.statmorph]\n",
      "WARNING: [segmap_gini] Full Gini segmap! [statmorph.statmorph]\n",
      "WARNING: segmap_mid is undefined; using segmap_gini instead. [statmorph.statmorph]\n",
      "WARNING: [M statistic] Reduced stepsize to 0.01. [statmorph.statmorph]\n",
      "WARNING: [M statistic] Reduced stepsize to 0.005. [statmorph.statmorph]\n",
      "WARNING: [M statistic] Reduced stepsize to 0.0025. [statmorph.statmorph]\n",
      "WARNING: [M statistic] Reduced stepsize to 0.00125. [statmorph.statmorph]\n",
      "WARNING: [M statistic] Reduced stepsize to 0.000625. [statmorph.statmorph]\n"
     ]
    },
    {
     "name": "stdout",
     "output_type": "stream",
     "text": [
      "Finished processing source 1.\n",
      "\n",
      "MEF_ngc4449_obj_1024_class1_quality1.fits\n",
      "C:\\Users\\Kobe\\OneDrive\\Documents\\Personal CS Projects\\Summer Astro Project\\MEF ngc4449 Class 1 Quality 1\\MEF_ngc4449_obj_1024_class1_quality1.fits\n",
      "Filename: C:\\Users\\Kobe\\OneDrive\\Documents\\Personal CS Projects\\Summer Astro Project\\MEF ngc4449 Class 1 Quality 1\\MEF_ngc4449_obj_1024_class1_quality1.fits\n",
      "No.    Name      Ver    Type      Cards   Dimensions   Format\n",
      "  0  NGC4449       1 PrimaryHDU      25   ()      \n",
      "  1  F275W         1 ImageHDU         8   (299, 299)   float32   \n",
      "  2  F336W         1 ImageHDU         8   (299, 299)   float32   \n",
      "  3  F435W         1 ImageHDU         8   (299, 299)   float32   \n",
      "  4  F555W         1 ImageHDU         8   (299, 299)   float32   \n",
      "  5  F814W         1 ImageHDU         8   (299, 299)   float32   \n"
     ]
    },
    {
     "name": "stderr",
     "output_type": "stream",
     "text": [
      "WARNING: [M statistic] Single clump! [statmorph.statmorph]\n",
      "WARNING: [sersic] Skipping Sersic fit... [statmorph.statmorph]\n",
      "WARNING: Image is not background-subtracted. [statmorph.statmorph]\n",
      "WARNING: [skybox] Reducing skybox size to 16. [statmorph.statmorph]\n",
      "WARNING: [skybox] Reducing skybox size to 8. [statmorph.statmorph]\n"
     ]
    },
    {
     "name": "stdout",
     "output_type": "stream",
     "text": [
      "SIMPLE  =                    T / conforms to FITS standard                      \n",
      "BITPIX  =                    8 / array data type                                \n",
      "NAXIS   =                    0 / number of array dimensions                     \n",
      "EXTEND  =                    T                                                  \n",
      "EXTNAME = 'NGC4449 '           / extension name                                 \n",
      "GALAXY  = 'ngc4449 '                                                            \n",
      "OBJECTID= '1024    '                                                            \n",
      "CLASS   = '1       '                                                            \n",
      "QUALITY = '1       '                                                            \n",
      "X_COORD =             6742.458                                                  \n",
      "Y_COORD =             4602.619                                                  \n",
      "RA      =                 1024                                                  \n",
      "DEC     =                 1024                                                  \n",
      "M_F275W =                 1024                                                  \n",
      "E_F275W =                 1024                                                  \n",
      "M_F336W =                 1024                                                  \n",
      "E_F336W =                 1024                                                  \n",
      "M_F435W =                 1024                                                  \n",
      "E_F435W =                 1024                                                  \n",
      "M_F555W =                 1024                                                  \n",
      "E_F555W =                 1024                                                  \n",
      "M_F814W =                 1024                                                  \n",
      "E_F814W =                 1024                                                  \n",
      "CI_555  =                 1024                                                  \n",
      "N_FILT  =                 1024                                                  \n",
      "1\n"
     ]
    },
    {
     "name": "stderr",
     "output_type": "stream",
     "text": [
      "WARNING: [shape_asym] Using skybox for background. [statmorph.statmorph]\n",
      "WARNING: [segmap_gini] Full Gini segmap! [statmorph.statmorph]\n",
      "WARNING: segmap_mid is undefined; using segmap_gini instead. [statmorph.statmorph]\n",
      "WARNING: [M statistic] Reduced stepsize to 0.01. [statmorph.statmorph]\n",
      "WARNING: [M statistic] Reduced stepsize to 0.005. [statmorph.statmorph]\n",
      "WARNING: [M statistic] Reduced stepsize to 0.0025. [statmorph.statmorph]\n",
      "WARNING: [M statistic] Reduced stepsize to 0.00125. [statmorph.statmorph]\n",
      "WARNING: [M statistic] Reduced stepsize to 0.000625. [statmorph.statmorph]\n"
     ]
    },
    {
     "name": "stdout",
     "output_type": "stream",
     "text": [
      "Finished processing source 1.\n",
      "\n",
      "MEF_ngc4449_obj_1025_class1_quality1.fits\n",
      "C:\\Users\\Kobe\\OneDrive\\Documents\\Personal CS Projects\\Summer Astro Project\\MEF ngc4449 Class 1 Quality 1\\MEF_ngc4449_obj_1025_class1_quality1.fits\n",
      "Filename: C:\\Users\\Kobe\\OneDrive\\Documents\\Personal CS Projects\\Summer Astro Project\\MEF ngc4449 Class 1 Quality 1\\MEF_ngc4449_obj_1025_class1_quality1.fits\n",
      "No.    Name      Ver    Type      Cards   Dimensions   Format\n",
      "  0  NGC4449       1 PrimaryHDU      25   ()      \n",
      "  1  F275W         1 ImageHDU         8   (299, 299)   float32   \n",
      "  2  F336W         1 ImageHDU         8   (299, 299)   float32   \n",
      "  3  F435W         1 ImageHDU         8   (299, 299)   float32   \n",
      "  4  F555W         1 ImageHDU         8   (299, 299)   float32   \n",
      "  5  F814W         1 ImageHDU         8   (299, 299)   float32   \n"
     ]
    },
    {
     "name": "stderr",
     "output_type": "stream",
     "text": [
      "WARNING: [M statistic] Single clump! [statmorph.statmorph]\n",
      "WARNING: [sersic] Skipping Sersic fit... [statmorph.statmorph]\n",
      "WARNING: Image is not background-subtracted. [statmorph.statmorph]\n",
      "WARNING: [skybox] Reducing skybox size to 16. [statmorph.statmorph]\n",
      "WARNING: [skybox] Reducing skybox size to 8. [statmorph.statmorph]\n"
     ]
    },
    {
     "name": "stdout",
     "output_type": "stream",
     "text": [
      "SIMPLE  =                    T / conforms to FITS standard                      \n",
      "BITPIX  =                    8 / array data type                                \n",
      "NAXIS   =                    0 / number of array dimensions                     \n",
      "EXTEND  =                    T                                                  \n",
      "EXTNAME = 'NGC4449 '           / extension name                                 \n",
      "GALAXY  = 'ngc4449 '                                                            \n",
      "OBJECTID= '1025    '                                                            \n",
      "CLASS   = '1       '                                                            \n",
      "QUALITY = '1       '                                                            \n",
      "X_COORD =               5892.0                                                  \n",
      "Y_COORD =             4598.534                                                  \n",
      "RA      =                 1025                                                  \n",
      "DEC     =                 1025                                                  \n",
      "M_F275W =                 1025                                                  \n",
      "E_F275W =                 1025                                                  \n",
      "M_F336W =                 1025                                                  \n",
      "E_F336W =                 1025                                                  \n",
      "M_F435W =                 1025                                                  \n",
      "E_F435W =                 1025                                                  \n",
      "M_F555W =                 1025                                                  \n",
      "E_F555W =                 1025                                                  \n",
      "M_F814W =                 1025                                                  \n",
      "E_F814W =                 1025                                                  \n",
      "CI_555  =                 1025                                                  \n",
      "N_FILT  =                 1025                                                  \n",
      "3\n"
     ]
    },
    {
     "name": "stderr",
     "output_type": "stream",
     "text": [
      "WARNING: [shape_asym] Using skybox for background. [statmorph.statmorph]\n",
      "WARNING: [segmap_gini] Full Gini segmap! [statmorph.statmorph]\n",
      "WARNING: segmap_mid is undefined; using segmap_gini instead. [statmorph.statmorph]\n",
      "WARNING: [M statistic] Reduced stepsize to 0.01. [statmorph.statmorph]\n",
      "WARNING: [M statistic] Reduced stepsize to 0.005. [statmorph.statmorph]\n",
      "WARNING: [M statistic] Reduced stepsize to 0.0025. [statmorph.statmorph]\n",
      "WARNING: [M statistic] Reduced stepsize to 0.00125. [statmorph.statmorph]\n",
      "WARNING: [M statistic] Reduced stepsize to 0.000625. [statmorph.statmorph]\n"
     ]
    },
    {
     "name": "stdout",
     "output_type": "stream",
     "text": [
      "Finished processing source 1.\n",
      "\n",
      "MEF_ngc4449_obj_103_class1_quality1.fits\n",
      "C:\\Users\\Kobe\\OneDrive\\Documents\\Personal CS Projects\\Summer Astro Project\\MEF ngc4449 Class 1 Quality 1\\MEF_ngc4449_obj_103_class1_quality1.fits\n",
      "Filename: C:\\Users\\Kobe\\OneDrive\\Documents\\Personal CS Projects\\Summer Astro Project\\MEF ngc4449 Class 1 Quality 1\\MEF_ngc4449_obj_103_class1_quality1.fits\n",
      "No.    Name      Ver    Type      Cards   Dimensions   Format\n",
      "  0  NGC4449       1 PrimaryHDU      25   ()      \n",
      "  1  F275W         1 ImageHDU         8   (299, 299)   float32   \n",
      "  2  F336W         1 ImageHDU         8   (299, 299)   float32   \n",
      "  3  F435W         1 ImageHDU         8   (299, 299)   float32   \n",
      "  4  F555W         1 ImageHDU         8   (299, 299)   float32   \n",
      "  5  F814W         1 ImageHDU         8   (299, 299)   float32   \n"
     ]
    },
    {
     "name": "stderr",
     "output_type": "stream",
     "text": [
      "WARNING: [M statistic] Single clump! [statmorph.statmorph]\n",
      "WARNING: [sersic] Skipping Sersic fit... [statmorph.statmorph]\n",
      "WARNING: Image is not background-subtracted. [statmorph.statmorph]\n",
      "WARNING: [skybox] Reducing skybox size to 16. [statmorph.statmorph]\n",
      "WARNING: [skybox] Reducing skybox size to 8. [statmorph.statmorph]\n"
     ]
    },
    {
     "name": "stdout",
     "output_type": "stream",
     "text": [
      "SIMPLE  =                    T / conforms to FITS standard                      \n",
      "BITPIX  =                    8 / array data type                                \n",
      "NAXIS   =                    0 / number of array dimensions                     \n",
      "EXTEND  =                    T                                                  \n",
      "EXTNAME = 'NGC4449 '           / extension name                                 \n",
      "GALAXY  = 'ngc4449 '                                                            \n",
      "OBJECTID= '103     '                                                            \n",
      "CLASS   = '1       '                                                            \n",
      "QUALITY = '1       '                                                            \n",
      "X_COORD =             4167.803                                                  \n",
      "Y_COORD =               7144.0                                                  \n",
      "RA      =                  103                                                  \n",
      "DEC     =                  103                                                  \n",
      "M_F275W =                  103                                                  \n",
      "E_F275W =                  103                                                  \n",
      "M_F336W =                  103                                                  \n",
      "E_F336W =                  103                                                  \n",
      "M_F435W =                  103                                                  \n",
      "E_F435W =                  103                                                  \n",
      "M_F555W =                  103                                                  \n",
      "E_F555W =                  103                                                  \n",
      "M_F814W =                  103                                                  \n",
      "E_F814W =                  103                                                  \n",
      "CI_555  =                  103                                                  \n",
      "N_FILT  =                  103                                                  \n",
      "1\n"
     ]
    },
    {
     "name": "stderr",
     "output_type": "stream",
     "text": [
      "WARNING: [shape_asym] Using skybox for background. [statmorph.statmorph]\n",
      "WARNING: [segmap_gini] Full Gini segmap! [statmorph.statmorph]\n",
      "WARNING: segmap_mid is undefined; using segmap_gini instead. [statmorph.statmorph]\n",
      "WARNING: [M statistic] Reduced stepsize to 0.01. [statmorph.statmorph]\n",
      "WARNING: [M statistic] Reduced stepsize to 0.005. [statmorph.statmorph]\n",
      "WARNING: [M statistic] Reduced stepsize to 0.0025. [statmorph.statmorph]\n"
     ]
    },
    {
     "ename": "KeyboardInterrupt",
     "evalue": "",
     "output_type": "error",
     "traceback": [
      "\u001b[1;31m---------------------------------------------------------------------------\u001b[0m",
      "\u001b[1;31mKeyboardInterrupt\u001b[0m                         Traceback (most recent call last)",
      "\u001b[1;32m<ipython-input-296-656f0f7d97a1>\u001b[0m in \u001b[0;36m<module>\u001b[1;34m\u001b[0m\n\u001b[1;32m----> 1\u001b[1;33m \u001b[0mprocessDir\u001b[0m\u001b[1;33m(\u001b[0m\u001b[0mfitsDirPath\u001b[0m\u001b[1;33m)\u001b[0m\u001b[1;33m\u001b[0m\u001b[1;33m\u001b[0m\u001b[0m\n\u001b[0m\u001b[0;32m      2\u001b[0m \u001b[0mmakeTable\u001b[0m\u001b[1;33m(\u001b[0m\u001b[1;33m)\u001b[0m\u001b[1;33m\u001b[0m\u001b[1;33m\u001b[0m\u001b[0m\n\u001b[0;32m      3\u001b[0m \u001b[1;33m\u001b[0m\u001b[0m\n",
      "\u001b[1;32m<ipython-input-294-233179676395>\u001b[0m in \u001b[0;36mprocessDir\u001b[1;34m(dirPath)\u001b[0m\n\u001b[0;32m      5\u001b[0m                 \u001b[0mprint\u001b[0m\u001b[1;33m(\u001b[0m\u001b[0mname\u001b[0m\u001b[1;33m)\u001b[0m\u001b[1;33m\u001b[0m\u001b[1;33m\u001b[0m\u001b[0m\n\u001b[0;32m      6\u001b[0m                 \u001b[0mprint\u001b[0m\u001b[1;33m(\u001b[0m\u001b[0mos\u001b[0m\u001b[1;33m.\u001b[0m\u001b[0mpath\u001b[0m\u001b[1;33m.\u001b[0m\u001b[0mjoin\u001b[0m\u001b[1;33m(\u001b[0m\u001b[0mroot\u001b[0m\u001b[1;33m,\u001b[0m \u001b[0mname\u001b[0m\u001b[1;33m)\u001b[0m\u001b[1;33m)\u001b[0m\u001b[1;33m\u001b[0m\u001b[1;33m\u001b[0m\u001b[0m\n\u001b[1;32m----> 7\u001b[1;33m                 \u001b[0mprocessFits\u001b[0m\u001b[1;33m(\u001b[0m\u001b[0mos\u001b[0m\u001b[1;33m.\u001b[0m\u001b[0mpath\u001b[0m\u001b[1;33m.\u001b[0m\u001b[0mjoin\u001b[0m\u001b[1;33m(\u001b[0m\u001b[0mroot\u001b[0m\u001b[1;33m,\u001b[0m \u001b[0mname\u001b[0m\u001b[1;33m)\u001b[0m\u001b[1;33m)\u001b[0m\u001b[1;33m\u001b[0m\u001b[1;33m\u001b[0m\u001b[0m\n\u001b[0m\u001b[0;32m      8\u001b[0m             \u001b[1;32melse\u001b[0m\u001b[1;33m:\u001b[0m\u001b[1;33m\u001b[0m\u001b[1;33m\u001b[0m\u001b[0m\n\u001b[0;32m      9\u001b[0m                 \u001b[1;32mcontinue\u001b[0m\u001b[1;33m\u001b[0m\u001b[1;33m\u001b[0m\u001b[0m\n",
      "\u001b[1;32m<ipython-input-293-32042c9cc2c0>\u001b[0m in \u001b[0;36mprocessFits\u001b[1;34m(filePath)\u001b[0m\n\u001b[0;32m     34\u001b[0m \u001b[1;33m\u001b[0m\u001b[0m\n\u001b[0;32m     35\u001b[0m         \u001b[1;31m#start = time.time()\u001b[0m\u001b[1;33m\u001b[0m\u001b[1;33m\u001b[0m\u001b[1;33m\u001b[0m\u001b[0m\n\u001b[1;32m---> 36\u001b[1;33m         \u001b[0msource_morphs\u001b[0m \u001b[1;33m=\u001b[0m \u001b[0mstatmorph\u001b[0m\u001b[1;33m.\u001b[0m\u001b[0msource_morphology\u001b[0m\u001b[1;33m(\u001b[0m\u001b[0msub\u001b[0m\u001b[1;33m,\u001b[0m \u001b[0msegmap\u001b[0m\u001b[1;33m,\u001b[0m \u001b[0mgain\u001b[0m\u001b[1;33m=\u001b[0m\u001b[0mgain\u001b[0m\u001b[1;33m)\u001b[0m\u001b[1;33m\u001b[0m\u001b[1;33m\u001b[0m\u001b[0m\n\u001b[0m\u001b[0;32m     37\u001b[0m         \u001b[1;31m#print(len(source_morphs))\u001b[0m\u001b[1;33m\u001b[0m\u001b[1;33m\u001b[0m\u001b[1;33m\u001b[0m\u001b[0m\n\u001b[0;32m     38\u001b[0m         \u001b[1;31m#print('Time: %g s.' % (time.time() - start))\u001b[0m\u001b[1;33m\u001b[0m\u001b[1;33m\u001b[0m\u001b[1;33m\u001b[0m\u001b[0m\n",
      "\u001b[1;32m~\\Anaconda3\\lib\\site-packages\\statmorph\\statmorph.py\u001b[0m in \u001b[0;36msource_morphology\u001b[1;34m(image, segmap, **kwargs)\u001b[0m\n\u001b[0;32m   2463\u001b[0m     \u001b[0msources_morph\u001b[0m \u001b[1;33m=\u001b[0m \u001b[1;33m[\u001b[0m\u001b[1;33m]\u001b[0m\u001b[1;33m\u001b[0m\u001b[1;33m\u001b[0m\u001b[0m\n\u001b[0;32m   2464\u001b[0m     \u001b[1;32mfor\u001b[0m \u001b[0mlabel\u001b[0m \u001b[1;32min\u001b[0m \u001b[0msegmap\u001b[0m\u001b[1;33m.\u001b[0m\u001b[0mlabels\u001b[0m\u001b[1;33m:\u001b[0m\u001b[1;33m\u001b[0m\u001b[1;33m\u001b[0m\u001b[0m\n\u001b[1;32m-> 2465\u001b[1;33m         \u001b[0msources_morph\u001b[0m\u001b[1;33m.\u001b[0m\u001b[0mappend\u001b[0m\u001b[1;33m(\u001b[0m\u001b[0mSourceMorphology\u001b[0m\u001b[1;33m(\u001b[0m\u001b[0mimage\u001b[0m\u001b[1;33m,\u001b[0m \u001b[0msegmap\u001b[0m\u001b[1;33m,\u001b[0m \u001b[0mlabel\u001b[0m\u001b[1;33m,\u001b[0m \u001b[1;33m**\u001b[0m\u001b[0mkwargs\u001b[0m\u001b[1;33m)\u001b[0m\u001b[1;33m)\u001b[0m\u001b[1;33m\u001b[0m\u001b[1;33m\u001b[0m\u001b[0m\n\u001b[0m\u001b[0;32m   2466\u001b[0m         \u001b[0mprint\u001b[0m\u001b[1;33m(\u001b[0m\u001b[1;34m'Finished processing source %d.\\n'\u001b[0m \u001b[1;33m%\u001b[0m \u001b[1;33m(\u001b[0m\u001b[0mlabel\u001b[0m\u001b[1;33m)\u001b[0m\u001b[1;33m)\u001b[0m\u001b[1;33m\u001b[0m\u001b[1;33m\u001b[0m\u001b[0m\n\u001b[0;32m   2467\u001b[0m \u001b[1;33m\u001b[0m\u001b[0m\n",
      "\u001b[1;32m~\\Anaconda3\\lib\\site-packages\\statmorph\\statmorph.py\u001b[0m in \u001b[0;36m__init__\u001b[1;34m(self, image, segmap, label, mask, weightmap, gain, psf, cutout_extent, min_cutout_size, n_sigma_outlier, annulus_width, eta, petro_fraction_gini, skybox_size, petro_extent_cas, petro_fraction_cas, boxcar_size_mid, niter_bh_mid, sigma_mid, petro_extent_flux, boxcar_size_shape_asym, sersic_maxiter, segmap_overlap_ratio)\u001b[0m\n\u001b[0;32m    440\u001b[0m \u001b[1;33m\u001b[0m\u001b[0m\n\u001b[0;32m    441\u001b[0m         \u001b[1;31m# For simplicity, evaluate all \"lazy\" properties at once:\u001b[0m\u001b[1;33m\u001b[0m\u001b[1;33m\u001b[0m\u001b[1;33m\u001b[0m\u001b[0m\n\u001b[1;32m--> 442\u001b[1;33m         \u001b[0mself\u001b[0m\u001b[1;33m.\u001b[0m\u001b[0m_calculate_morphology\u001b[0m\u001b[1;33m(\u001b[0m\u001b[1;33m)\u001b[0m\u001b[1;33m\u001b[0m\u001b[1;33m\u001b[0m\u001b[0m\n\u001b[0m\u001b[0;32m    443\u001b[0m \u001b[1;33m\u001b[0m\u001b[0m\n\u001b[0;32m    444\u001b[0m         \u001b[1;31m# Check if image is background-subtracted; set flag=1 if not.\u001b[0m\u001b[1;33m\u001b[0m\u001b[1;33m\u001b[0m\u001b[1;33m\u001b[0m\u001b[0m\n",
      "\u001b[1;32m~\\Anaconda3\\lib\\site-packages\\statmorph\\statmorph.py\u001b[0m in \u001b[0;36m_calculate_morphology\u001b[1;34m(self)\u001b[0m\n\u001b[0;32m    541\u001b[0m         ]\n\u001b[0;32m    542\u001b[0m         \u001b[1;32mfor\u001b[0m \u001b[0mq\u001b[0m \u001b[1;32min\u001b[0m \u001b[0mquantities\u001b[0m\u001b[1;33m:\u001b[0m\u001b[1;33m\u001b[0m\u001b[1;33m\u001b[0m\u001b[0m\n\u001b[1;32m--> 543\u001b[1;33m             \u001b[0mtmp\u001b[0m \u001b[1;33m=\u001b[0m \u001b[0mself\u001b[0m\u001b[1;33m[\u001b[0m\u001b[0mq\u001b[0m\u001b[1;33m]\u001b[0m\u001b[1;33m\u001b[0m\u001b[1;33m\u001b[0m\u001b[0m\n\u001b[0m\u001b[0;32m    544\u001b[0m \u001b[1;33m\u001b[0m\u001b[0m\n\u001b[0;32m    545\u001b[0m     \u001b[1;32mdef\u001b[0m \u001b[0m_check_segmaps\u001b[0m\u001b[1;33m(\u001b[0m\u001b[0mself\u001b[0m\u001b[1;33m)\u001b[0m\u001b[1;33m:\u001b[0m\u001b[1;33m\u001b[0m\u001b[1;33m\u001b[0m\u001b[0m\n",
      "\u001b[1;32m~\\Anaconda3\\lib\\site-packages\\statmorph\\statmorph.py\u001b[0m in \u001b[0;36m__getitem__\u001b[1;34m(self, key)\u001b[0m\n\u001b[0;32m    454\u001b[0m \u001b[1;33m\u001b[0m\u001b[0m\n\u001b[0;32m    455\u001b[0m     \u001b[1;32mdef\u001b[0m \u001b[0m__getitem__\u001b[0m\u001b[1;33m(\u001b[0m\u001b[0mself\u001b[0m\u001b[1;33m,\u001b[0m \u001b[0mkey\u001b[0m\u001b[1;33m)\u001b[0m\u001b[1;33m:\u001b[0m\u001b[1;33m\u001b[0m\u001b[1;33m\u001b[0m\u001b[0m\n\u001b[1;32m--> 456\u001b[1;33m         \u001b[1;32mreturn\u001b[0m \u001b[0mgetattr\u001b[0m\u001b[1;33m(\u001b[0m\u001b[0mself\u001b[0m\u001b[1;33m,\u001b[0m \u001b[0mkey\u001b[0m\u001b[1;33m)\u001b[0m\u001b[1;33m\u001b[0m\u001b[1;33m\u001b[0m\u001b[0m\n\u001b[0m\u001b[0;32m    457\u001b[0m \u001b[1;33m\u001b[0m\u001b[0m\n\u001b[0;32m    458\u001b[0m     \u001b[1;32mdef\u001b[0m \u001b[0m_get_badpixels\u001b[0m\u001b[1;33m(\u001b[0m\u001b[0mself\u001b[0m\u001b[1;33m,\u001b[0m \u001b[0mimage\u001b[0m\u001b[1;33m)\u001b[0m\u001b[1;33m:\u001b[0m\u001b[1;33m\u001b[0m\u001b[1;33m\u001b[0m\u001b[0m\n",
      "\u001b[1;32m~\\Anaconda3\\lib\\site-packages\\astropy\\utils\\decorators.py\u001b[0m in \u001b[0;36m__get__\u001b[1;34m(self, obj, owner)\u001b[0m\n\u001b[0;32m    742\u001b[0m                 \u001b[1;32mreturn\u001b[0m \u001b[0mval\u001b[0m\u001b[1;33m\u001b[0m\u001b[1;33m\u001b[0m\u001b[0m\n\u001b[0;32m    743\u001b[0m             \u001b[1;32melse\u001b[0m\u001b[1;33m:\u001b[0m\u001b[1;33m\u001b[0m\u001b[1;33m\u001b[0m\u001b[0m\n\u001b[1;32m--> 744\u001b[1;33m                 \u001b[0mval\u001b[0m \u001b[1;33m=\u001b[0m \u001b[0mself\u001b[0m\u001b[1;33m.\u001b[0m\u001b[0mfget\u001b[0m\u001b[1;33m(\u001b[0m\u001b[0mobj\u001b[0m\u001b[1;33m)\u001b[0m\u001b[1;33m\u001b[0m\u001b[1;33m\u001b[0m\u001b[0m\n\u001b[0m\u001b[0;32m    745\u001b[0m                 \u001b[0mobj\u001b[0m\u001b[1;33m.\u001b[0m\u001b[0m__dict__\u001b[0m\u001b[1;33m[\u001b[0m\u001b[0mself\u001b[0m\u001b[1;33m.\u001b[0m\u001b[0m_key\u001b[0m\u001b[1;33m]\u001b[0m \u001b[1;33m=\u001b[0m \u001b[0mval\u001b[0m\u001b[1;33m\u001b[0m\u001b[1;33m\u001b[0m\u001b[0m\n\u001b[0;32m    746\u001b[0m                 \u001b[1;32mreturn\u001b[0m \u001b[0mval\u001b[0m\u001b[1;33m\u001b[0m\u001b[1;33m\u001b[0m\u001b[0m\n",
      "\u001b[1;32m~\\Anaconda3\\lib\\site-packages\\statmorph\\statmorph.py\u001b[0m in \u001b[0;36mmultimode\u001b[1;34m(self)\u001b[0m\n\u001b[0;32m   1930\u001b[0m             \u001b[0mratio_array\u001b[0m \u001b[1;33m=\u001b[0m \u001b[0mnp\u001b[0m\u001b[1;33m.\u001b[0m\u001b[0mzeros_like\u001b[0m\u001b[1;33m(\u001b[0m\u001b[0mquantile_array\u001b[0m\u001b[1;33m)\u001b[0m\u001b[1;33m\u001b[0m\u001b[1;33m\u001b[0m\u001b[0m\n\u001b[0;32m   1931\u001b[0m             \u001b[1;32mfor\u001b[0m \u001b[0mk\u001b[0m\u001b[1;33m,\u001b[0m \u001b[0mq\u001b[0m \u001b[1;32min\u001b[0m \u001b[0menumerate\u001b[0m\u001b[1;33m(\u001b[0m\u001b[0mquantile_array\u001b[0m\u001b[1;33m)\u001b[0m\u001b[1;33m:\u001b[0m\u001b[1;33m\u001b[0m\u001b[1;33m\u001b[0m\u001b[0m\n\u001b[1;32m-> 1932\u001b[1;33m                 \u001b[0mratio_array\u001b[0m\u001b[1;33m[\u001b[0m\u001b[0mk\u001b[0m\u001b[1;33m]\u001b[0m \u001b[1;33m=\u001b[0m \u001b[0mself\u001b[0m\u001b[1;33m.\u001b[0m\u001b[0m_multimode_ratio\u001b[0m\u001b[1;33m(\u001b[0m\u001b[0mq\u001b[0m\u001b[1;33m)\u001b[0m\u001b[1;33m\u001b[0m\u001b[1;33m\u001b[0m\u001b[0m\n\u001b[0m\u001b[0;32m   1933\u001b[0m             \u001b[0mk_min\u001b[0m \u001b[1;33m=\u001b[0m \u001b[0mnp\u001b[0m\u001b[1;33m.\u001b[0m\u001b[0margmin\u001b[0m\u001b[1;33m(\u001b[0m\u001b[0mratio_array\u001b[0m\u001b[1;33m)\u001b[0m\u001b[1;33m\u001b[0m\u001b[1;33m\u001b[0m\u001b[0m\n\u001b[0;32m   1934\u001b[0m             \u001b[0mq0\u001b[0m \u001b[1;33m=\u001b[0m \u001b[0mquantile_array\u001b[0m\u001b[1;33m[\u001b[0m\u001b[0mk_min\u001b[0m\u001b[1;33m]\u001b[0m\u001b[1;33m\u001b[0m\u001b[1;33m\u001b[0m\u001b[0m\n",
      "\u001b[1;32m~\\Anaconda3\\lib\\site-packages\\statmorph\\statmorph.py\u001b[0m in \u001b[0;36m_multimode_ratio\u001b[1;34m(self, q)\u001b[0m\n\u001b[0;32m   1873\u001b[0m             \u001b[0mratio\u001b[0m \u001b[1;33m=\u001b[0m \u001b[0minvalid\u001b[0m\u001b[1;33m\u001b[0m\u001b[1;33m\u001b[0m\u001b[0m\n\u001b[0;32m   1874\u001b[0m         \u001b[1;32melse\u001b[0m\u001b[1;33m:\u001b[0m\u001b[1;33m\u001b[0m\u001b[1;33m\u001b[0m\u001b[0m\n\u001b[1;32m-> 1875\u001b[1;33m             \u001b[0msorted_counts\u001b[0m \u001b[1;33m=\u001b[0m \u001b[0mself\u001b[0m\u001b[1;33m.\u001b[0m\u001b[0m_multimode_function\u001b[0m\u001b[1;33m(\u001b[0m\u001b[0mq\u001b[0m\u001b[1;33m)\u001b[0m\u001b[1;33m\u001b[0m\u001b[1;33m\u001b[0m\u001b[0m\n\u001b[0m\u001b[0;32m   1876\u001b[0m             \u001b[1;32mif\u001b[0m \u001b[0mlen\u001b[0m\u001b[1;33m(\u001b[0m\u001b[0msorted_counts\u001b[0m\u001b[1;33m)\u001b[0m \u001b[1;33m==\u001b[0m \u001b[1;36m1\u001b[0m\u001b[1;33m:\u001b[0m\u001b[1;33m\u001b[0m\u001b[1;33m\u001b[0m\u001b[0m\n\u001b[0;32m   1877\u001b[0m                 \u001b[0mratio\u001b[0m \u001b[1;33m=\u001b[0m \u001b[0minvalid\u001b[0m\u001b[1;33m\u001b[0m\u001b[1;33m\u001b[0m\u001b[0m\n",
      "\u001b[1;32m~\\Anaconda3\\lib\\site-packages\\statmorph\\statmorph.py\u001b[0m in \u001b[0;36m_multimode_function\u001b[1;34m(self, q)\u001b[0m\n\u001b[0;32m   1855\u001b[0m         \u001b[0ms\u001b[0m \u001b[1;33m=\u001b[0m \u001b[0mndi\u001b[0m\u001b[1;33m.\u001b[0m\u001b[0mgenerate_binary_structure\u001b[0m\u001b[1;33m(\u001b[0m\u001b[1;36m2\u001b[0m\u001b[1;33m,\u001b[0m \u001b[1;36m2\u001b[0m\u001b[1;33m)\u001b[0m\u001b[1;33m\u001b[0m\u001b[1;33m\u001b[0m\u001b[0m\n\u001b[0;32m   1856\u001b[0m \u001b[1;33m\u001b[0m\u001b[0m\n\u001b[1;32m-> 1857\u001b[1;33m         \u001b[0mlabeled_array\u001b[0m\u001b[1;33m,\u001b[0m \u001b[0mnum_features\u001b[0m \u001b[1;33m=\u001b[0m \u001b[0mndi\u001b[0m\u001b[1;33m.\u001b[0m\u001b[0mlabel\u001b[0m\u001b[1;33m(\u001b[0m\u001b[0mabove_threshold\u001b[0m\u001b[1;33m,\u001b[0m \u001b[0mstructure\u001b[0m\u001b[1;33m=\u001b[0m\u001b[0ms\u001b[0m\u001b[1;33m)\u001b[0m\u001b[1;33m\u001b[0m\u001b[1;33m\u001b[0m\u001b[0m\n\u001b[0m\u001b[0;32m   1858\u001b[0m \u001b[1;33m\u001b[0m\u001b[0m\n\u001b[0;32m   1859\u001b[0m         \u001b[1;31m# Zero is reserved for non-labeled pixels:\u001b[0m\u001b[1;33m\u001b[0m\u001b[1;33m\u001b[0m\u001b[1;33m\u001b[0m\u001b[0m\n",
      "\u001b[1;32m~\\Anaconda3\\lib\\site-packages\\scipy\\ndimage\\measurements.py\u001b[0m in \u001b[0;36mlabel\u001b[1;34m(input, structure, output)\u001b[0m\n\u001b[0;32m    186\u001b[0m \u001b[1;33m\u001b[0m\u001b[0m\n\u001b[0;32m    187\u001b[0m     \u001b[1;32mtry\u001b[0m\u001b[1;33m:\u001b[0m\u001b[1;33m\u001b[0m\u001b[1;33m\u001b[0m\u001b[0m\n\u001b[1;32m--> 188\u001b[1;33m         \u001b[0mmax_label\u001b[0m \u001b[1;33m=\u001b[0m \u001b[0m_ni_label\u001b[0m\u001b[1;33m.\u001b[0m\u001b[0m_label\u001b[0m\u001b[1;33m(\u001b[0m\u001b[0minput\u001b[0m\u001b[1;33m,\u001b[0m \u001b[0mstructure\u001b[0m\u001b[1;33m,\u001b[0m \u001b[0moutput\u001b[0m\u001b[1;33m)\u001b[0m\u001b[1;33m\u001b[0m\u001b[1;33m\u001b[0m\u001b[0m\n\u001b[0m\u001b[0;32m    189\u001b[0m     \u001b[1;32mexcept\u001b[0m \u001b[0m_ni_label\u001b[0m\u001b[1;33m.\u001b[0m\u001b[0mNeedMoreBits\u001b[0m\u001b[1;33m:\u001b[0m\u001b[1;33m\u001b[0m\u001b[1;33m\u001b[0m\u001b[0m\n\u001b[0;32m    190\u001b[0m         \u001b[1;31m# Make another attempt with enough bits, then try to cast to the\u001b[0m\u001b[1;33m\u001b[0m\u001b[1;33m\u001b[0m\u001b[1;33m\u001b[0m\u001b[0m\n",
      "\u001b[1;31mKeyboardInterrupt\u001b[0m: "
     ]
    }
   ],
   "source": [
    "processDir(fitsDirPath)\n",
    "makeTable()\n",
    "\n"
   ]
  },
  {
   "cell_type": "code",
   "execution_count": null,
   "metadata": {},
   "outputs": [],
   "source": []
  }
 ],
 "metadata": {
  "kernelspec": {
   "display_name": "Python 3",
   "language": "python",
   "name": "python3"
  },
  "language_info": {
   "codemirror_mode": {
    "name": "ipython",
    "version": 3
   },
   "file_extension": ".py",
   "mimetype": "text/x-python",
   "name": "python",
   "nbconvert_exporter": "python",
   "pygments_lexer": "ipython3",
   "version": "3.7.3"
  }
 },
 "nbformat": 4,
 "nbformat_minor": 2
}
