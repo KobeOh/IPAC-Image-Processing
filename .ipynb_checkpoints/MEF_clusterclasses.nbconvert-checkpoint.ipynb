{
 "cells": [
  {
   "cell_type": "code",
   "execution_count": 1,
   "metadata": {},
   "outputs": [],
   "source": [
    "from astropy.io import fits\n",
    "from astropy.table import Table, join\n",
    "import numpy as np\n",
    "import matplotlib.pyplot as plt\n",
    "import pylab\n",
    "import math\n",
    "from PIL import Image, ImageDraw, ImageFont\n",
    "from astropy.io import ascii\n",
    "import tarfile\n",
    "import os\n",
    "import shutil\n",
    "from datetime import datetime"
   ]
  },
  {
   "cell_type": "code",
   "execution_count": 2,
   "metadata": {},
   "outputs": [],
   "source": [
    "startTime = datetime.now()\n",
    "\n",
    "#INPUT VARIABLES HERE\n",
    "\n",
    "#filename of object table\n",
    "tableFileName = 'hlsp_legus_hst_acs-wfc3_ngc5474_multiband_v1_padagb-mwext-avgapcor.tab'\n",
    "#name of galaxy\n",
    "gal = 'ngc5474'\n",
    "#cluster class\n",
    "cat = 4\n",
    "#number of bands detected \n",
    "num_bands = 4\n",
    "#quality\n",
    "qual = 1\n",
    "#Wavelengths (as strings)\n",
    "wavelengths = ['275', '336', '438', '606', '814']\n",
    "#Radius of image cutouts in pixels\n",
    "stamp_radius = 149\n",
    "\n",
    "t = Table.read(tableFileName, format='ascii')\n",
    "\n",
    "#Edge Case Handling for ngc5457c, which resets object ID numbers after 9999\n",
    "if gal == 'ngc5457c':\n",
    "    for i in range(len(t[9999::])):\n",
    "        t[9999+i]['col1'] = 10000+i\n",
    "\n",
    "#sort by cluster class (cat), number of bands detected (num-band), and quality (qual)\n",
    "cut = t[(t['col34']==cat)]\n",
    "#TODO: determine what a num_bands of 200 means\n",
    "cut = cut[(cut['col33']>=num_bands)]"
   ]
  },
  {
   "cell_type": "code",
   "execution_count": 3,
   "metadata": {
    "scrolled": true
   },
   "outputs": [],
   "source": [
    "#Load full images for each band\n",
    "    \n",
    "im = [[gal+'_uvis_f' + wavelengths[0] + 'w_sci.fits','f' + wavelengths[0] + 'w'],\n",
    "      [gal+'_uvis_f' + wavelengths[1] + 'w_sci.fits','f' + wavelengths[1] + 'w'],\n",
    "      [gal+'_uvis_f' + wavelengths[2] + 'w_sci.fits','f' + wavelengths[2] + 'w'],\n",
    "      [gal+'_uvis_f' + wavelengths[3] + 'w_sci.fits','f' + wavelengths[3] + 'w'],\n",
    "      [gal+'_uvis_f' + wavelengths[4] + 'w_sci.fits','f' + wavelengths[4] + 'w']]\n",
    "    \n",
    "#Create .fits cutouts 299x299pix centered around each object\n",
    "#Check X & Y to see if reversed\n",
    "\n",
    "\n",
    "for i in range(0,len(cut)):\n",
    "    for j in range(0,len(im)):\n",
    "        obj, x, y = cut['col1'][i], cut['col3'][i], cut['col2'][i]\n",
    "        obj, x, y = int(round(obj)), int(round(x)), int(round(y))\n",
    "        image = fits.open(str(im[j][0]))\n",
    "        image_data = image[0].data\n",
    "        new_array = image_data[(x-stamp_radius-1):(x+stamp_radius),(y-stamp_radius-1):(y+stamp_radius)]\n",
    "        new_image = fits.PrimaryHDU(new_array)\n",
    "        hdulist = fits.HDUList([new_image])\n",
    "        name = str(gal) + '_' + im[j][1] + '_obj_' + str(obj) + '_class' + str(cat) + '_quality' + str(qual)\n",
    "        hdulist.writeto(name + '.fits', overwrite = True)\n"
   ]
  },
  {
   "cell_type": "code",
   "execution_count": 4,
   "metadata": {},
   "outputs": [],
   "source": [
    "#set up MEF-format HDUs for all bands\n",
    "\n",
    "new_hdul = fits.HDUList()\n",
    "new_hdul.append(fits.ImageHDU())\n",
    "new_hdul.append(fits.ImageHDU())\n",
    "new_hdul.append(fits.ImageHDU())\n",
    "new_hdul.append(fits.ImageHDU())\n",
    "new_hdul.append(fits.ImageHDU())\n",
    "new_hdul.append(fits.ImageHDU())\n",
    "\n",
    "\n",
    "new_hdul[0].name = gal\n",
    "new_hdul[1].name = 'f' + wavelengths[0] + 'w'\n",
    "new_hdul[2].name = 'f' + wavelengths[1] + 'w'\n",
    "new_hdul[3].name = 'f' + wavelengths[2] + 'w'\n",
    "new_hdul[4].name = 'f' + wavelengths[3] + 'w'\n",
    "new_hdul[5].name = 'f' + wavelengths[4] + 'w'"
   ]
  },
  {
   "cell_type": "code",
   "execution_count": 5,
   "metadata": {
    "scrolled": true
   },
   "outputs": [
    {
     "name": "stdout",
     "output_type": "stream",
     "text": [
      "4111  has f275 zeroed\n",
      "4111  has f336 zeroed\n",
      "4111  has f438 zeroed\n",
      "4111  has f606 zeroed\n",
      "4111  has f814 zeroed\n"
     ]
    }
   ],
   "source": [
    "objects = cut['col1']\n",
    "#gal = 'ngc5457c'\n",
    "names = []\n",
    "errors = []\n",
    "#highpix = []\n",
    "#copy .fits data from each band into an MEF for all objects\n",
    "\n",
    "for i in range(len(objects)):\n",
    "    hdr = new_hdul[0].header\n",
    "    hdr['Galaxy']=gal\n",
    "    hdr['ObjectID']=str(int(round(objects[i])))\n",
    "    hdr['Class']=str(cat)\n",
    "    hdr['Quality']=str(qual)\n",
    "    hdr['x_coord']=cut['col2'][i]\n",
    "    hdr['y_coord']=cut['col3'][i]\n",
    "    hdr['RA']=cut['col4'][i]\n",
    "    hdr['Dec']=cut['col5'][i]\n",
    "    hdr['m_f' + wavelengths[0] + 'w']=cut['col6'][i]\n",
    "    hdr['e_f' + wavelengths[0] + 'w']=cut['col7'][i]\n",
    "    hdr['m_f' + wavelengths[1] + 'w']=cut['col8'][i]\n",
    "    hdr['e_f' + wavelengths[1] + 'w']=cut['col9'][i]\n",
    "    hdr['m_f' + wavelengths[2] + 'w']=cut['col10'][i]\n",
    "    hdr['e_f' + wavelengths[2] + 'w']=cut['col11'][i]\n",
    "    hdr['m_f' + wavelengths[3] + 'w']=cut['col12'][i]\n",
    "    hdr['e_f' + wavelengths[3] + 'w']=cut['col13'][i]\n",
    "    hdr['m_f' + wavelengths[4] + 'w']=cut['col14'][i]\n",
    "    hdr['e_f' + wavelengths[4] + 'w']=cut['col15'][i]\n",
    "    hdr['CI_606']=cut['col16'][i]\n",
    "    hdr['N_filt']=cut['col33'][i]\n",
    "    \n",
    "    \n",
    "    for w in range(len(wavelengths)):\n",
    "        wImage = fits.open(gal + '_f' + wavelengths[w] + 'w_obj_' + str(int(round(objects[i]))) \n",
    "                           + '_class' + str(cat) + '_quality' + str(qual) + '.fits')\n",
    "    \n",
    "        new_hdul[1 + w].data = wImage[0].data\n",
    "        if np.min(wImage[0].data)==np.max(wImage[0].data):\n",
    "            errors.append((str(int(round(objects[i]))),'f' + wavelengths[w] + 'w'))\n",
    "            #print('error on ' + str(int(round(objects[i]))) + ', f' + wavelengths[w] + 'w = %.2e' % np.max(wImage[0].data))\n",
    "        #if np.max(wImage[0].data)>=500:\n",
    "        #    highpix.append((str(int(round(objects[i]))),'f' + wavelengths[w] + 'w',np.max(wImage[0].data)))\n",
    "        if (cut['col6'][i] == 66.666):\n",
    "            print(cut['col1'][i], ' has f' + wavelengths[w] + ' zeroed')\n",
    "            for j in range(len(new_hdul[1 + w].data)):\n",
    "                for k in range(len(new_hdul[1 + w].data)):\n",
    "                    new_hdul[1 + w].data[j][k] = 0.\n",
    "        wImage.close()\n",
    "\n",
    "    \n",
    "    \n",
    "    #Save MEF & copy names for .tar use\n",
    "    \n",
    "    name = 'MEF_' + gal + '_obj_' + str(int(round(objects[i]))) + '_class' + str(cat) + '_quality' + str(qual) +'.fits'\n",
    "    names.append(name)\n",
    "    new_hdul.writeto(name, overwrite = True)\n",
    "    new_hdul.close()\n",
    "    \n",
    "    #remove individual .fits files after each MEF is saved\n",
    "    \n",
    "    os.remove(gal + '_f' + wavelengths[0] + 'w_obj_' + str(int(round(objects[i]))) \n",
    "              + '_class' + str(cat) + '_quality' + str(qual) + '.fits')\n",
    "    os.remove(gal + '_f' + wavelengths[1] + 'w_obj_' + str(int(round(objects[i]))) \n",
    "              + '_class' + str(cat) + '_quality' + str(qual) + '.fits')\n",
    "    os.remove(gal + '_f' + wavelengths[2] + 'w_obj_' + str(int(round(objects[i]))) \n",
    "              + '_class' + str(cat) + '_quality' + str(qual) + '.fits')\n",
    "    os.remove(gal + '_f' + wavelengths[3] + 'w_obj_' + str(int(round(objects[i]))) \n",
    "              + '_class' + str(cat) + '_quality' + str(qual) + '.fits')\n",
    "    os.remove(gal + '_f' + wavelengths[4] + 'w_obj_' + str(int(round(objects[i]))) \n",
    "              + '_class' + str(cat) + '_quality' + str(qual) + '.fits')"
   ]
  },
  {
   "cell_type": "code",
   "execution_count": 6,
   "metadata": {},
   "outputs": [
    {
     "name": "stdout",
     "output_type": "stream",
     "text": [
      "0:00:22.217551\n"
     ]
    }
   ],
   "source": [
    "#Put MEFs into a new directory\n",
    "#TODO: COMPRESSION IS BUGGED - look into finding a compression library that doesn't corrupt files\n",
    "\n",
    "if errors != []:\n",
    "    errors_table = Table(rows=errors, names=('ID', 'Filter'))\n",
    "    ascii.write([errors_table['ID'], errors_table['Filter']],gal + '_class' + str(cat) + '_quality' + str(qual) + '_errors.tab', names = ['ID','Filter'], overwrite='True')\n",
    "\n",
    "cwd = os.getcwd()\n",
    "newDir = '\\\\MEF ' + gal + ' Class ' + str(cat) + ' Quality ' + str(qual)\n",
    "\n",
    "shutil.rmtree(cwd+newDir, True)\n",
    "os.mkdir(cwd+newDir)\n",
    "\n",
    "\n",
    "for name in names:\n",
    "    os.rename(cwd + '\\\\' + name, cwd + newDir + '\\\\' + name)\n",
    "\n",
    "print(datetime.now() - startTime)"
   ]
  },
  {
   "cell_type": "code",
   "execution_count": null,
   "metadata": {},
   "outputs": [],
   "source": []
  }
 ],
 "metadata": {
  "kernelspec": {
   "display_name": "Python 3",
   "language": "python",
   "name": "python3"
  },
  "language_info": {
   "codemirror_mode": {
    "name": "ipython",
    "version": 3
   },
   "file_extension": ".py",
   "mimetype": "text/x-python",
   "name": "python",
   "nbconvert_exporter": "python",
   "pygments_lexer": "ipython3",
   "version": "3.6.2"
  }
 },
 "nbformat": 4,
 "nbformat_minor": 2
}
